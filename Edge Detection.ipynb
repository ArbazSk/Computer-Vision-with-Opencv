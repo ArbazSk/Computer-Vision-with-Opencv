{
 "cells": [
  {
   "cell_type": "code",
   "execution_count": 1,
   "metadata": {},
   "outputs": [],
   "source": [
    "import cv2\n",
    "import numpy as np\n"
   ]
  },
  {
   "cell_type": "code",
   "execution_count": 3,
   "metadata": {},
   "outputs": [],
   "source": [
    "image = cv2.imread('dog.jpeg')\n",
    "# cv2.imshow('Original', image)\n",
    "\n",
    "height, width = image.shape[:2]\n",
    "\n",
    "# Sobel edge \n",
    "\n",
    "sobel_x = cv2.Sobel(image,cv2.CV_64F,0,1,ksize=5)\n",
    "sobel_y = cv2.Sobel(image,cv2.CV_64F,1,0,ksize=5)\n",
    "\n",
    "cv2.imshow(\"Sobel X\",sobel_x)\n",
    "cv2.imshow(\"Sobel Y\",sobel_y)\n",
    "\n",
    "sobl = cv2.bitwise_or(sobel_x,sobel_y)\n",
    "cv2.imshow(\"Sobel\",sobl)\n",
    "\n",
    "cv2.waitKey(0)\n",
    "cv2.destroyAllWindows()"
   ]
  }
 ],
 "metadata": {
  "kernelspec": {
   "display_name": "Python 3",
   "language": "python",
   "name": "python3"
  },
  "language_info": {
   "codemirror_mode": {
    "name": "ipython",
    "version": 3
   },
   "file_extension": ".py",
   "mimetype": "text/x-python",
   "name": "python",
   "nbconvert_exporter": "python",
   "pygments_lexer": "ipython3",
   "version": "3.7.4"
  }
 },
 "nbformat": 4,
 "nbformat_minor": 2
}
