{
 "cells": [
  {
   "cell_type": "markdown",
   "metadata": {},
   "source": [
    "Image manipulation"
   ]
  },
  {
   "cell_type": "code",
   "execution_count": 9,
   "metadata": {},
   "outputs": [],
   "source": [
    "import cv2\n",
    "import numpy as np"
   ]
  },
  {
   "cell_type": "markdown",
   "metadata": {},
   "source": [
    "Translation"
   ]
  },
  {
   "cell_type": "code",
   "execution_count": 11,
   "metadata": {},
   "outputs": [],
   "source": [
    "image = cv2.imread('dog.jpeg')\n",
    "height, width = image.shape[:2]\n",
    "quater_height, quater_width = height/4, width/4\n",
    "\n",
    "T = np.float32([[1, 0, 10], [0, 1, 50]])\n",
    "\n",
    "translation = cv2.warpAffine(image,T,(width,height))\n",
    "cv2.imshow(\"Translation\",translation)\n",
    "cv2.waitKey()\n",
    "cv2.destroyAllWindows()\n"
   ]
  },
  {
   "cell_type": "markdown",
   "metadata": {},
   "source": [
    "Rotation"
   ]
  },
  {
   "cell_type": "code",
   "execution_count": 31,
   "metadata": {},
   "outputs": [],
   "source": [
    "image = cv2.imread('dog.jpeg')\n",
    "height, width = image.shape[:2]\n",
    "\n",
    "rotation_matrix = cv2.getRotationMatrix2D((width/2,height/2),45,1)\n",
    "rotation = cv2.warpAffine(image,rotation_matrix,(width,height))\n",
    "\n",
    "cv2.imshow(\"Rotation\",rotation)\n",
    "cv2.waitKey()\n",
    "cv2.destroyAllWindows()"
   ]
  },
  {
   "cell_type": "markdown",
   "metadata": {},
   "source": [
    "Scaling"
   ]
  },
  {
   "cell_type": "code",
   "execution_count": 11,
   "metadata": {},
   "outputs": [],
   "source": [
    "image = cv2.imread('dog.jpeg')\n",
    "\n",
    "cv2.imshow(\"original\",image)\n",
    "cv2.waitKey()\n",
    "\n",
    "imaged_scale = cv2.resize(image,None,fx=0.85,fy=0.90)\n",
    "cv2.imshow(\"Scaling - Linear Interpolation\",imaged_scale)\n",
    "cv2.waitKey()\n",
    "\n",
    "imaged_scale = cv2.resize(image,None,fx=2,fy=2,interpolation=cv2.INTER_CUBIC)\n",
    "cv2.imshow(\"Scaling - Cubic Interpolation\",imaged_scale)\n",
    "cv2.waitKey()\n",
    "\n",
    "imaged_scale = cv2.resize(image,(500,360),interpolation=cv2.INTER_AREA)\n",
    "cv2.imshow(\"Scaling - Skewed Interpolation\",imaged_scale)\n",
    "cv2.waitKey()\n",
    "\n",
    "imaged_scale = cv2.resize(image,(600,360),interpolation=cv2.INTER_LANCZOS4)\n",
    "cv2.imshow(\"Scaling - Skewed Interpolation\",imaged_scale)\n",
    "cv2.waitKey()\n",
    "\n",
    "cv2.destroyAllWindows()"
   ]
  },
  {
   "cell_type": "markdown",
   "metadata": {},
   "source": [
    "Image Pyramids"
   ]
  },
  {
   "cell_type": "code",
   "execution_count": 3,
   "metadata": {},
   "outputs": [],
   "source": [
    "image = cv2.imread('dog.jpeg')\n",
    "cv2.imshow('original',image)\n",
    "cv2.waitKey()\n",
    "smaller_image = cv2.pyrDown(image)\n",
    "cv2.imshow('Pyramiding Down',smaller_image)\n",
    "cv2.waitKey()\n",
    "\n",
    "larger_image = cv2.pyrUp(image)\n",
    "cv2.imshow(\"Pyramiding Up\",larger_image)\n",
    "cv2.waitKey()\n",
    "\n",
    "cv2.destroyAllWindows()"
   ]
  },
  {
   "cell_type": "markdown",
   "metadata": {},
   "source": [
    "Cropping image"
   ]
  },
  {
   "cell_type": "code",
   "execution_count": 15,
   "metadata": {},
   "outputs": [],
   "source": [
    "import cv2\n",
    "import numpy as np\n",
    "\n",
    "image = cv2.imread('dog.jpeg')\n",
    "height, width = image.shape[:2]\n",
    "\n",
    "start_row, start_col = int(height * .15), int(width * .15)\n",
    "end_row, end_col = int(height * .85),  int(width * .85)\n",
    "\n",
    "cropped_image = image[start_row:end_row,start_col:end_col]\n",
    "\n",
    "cv2.imshow(\"Original image\", image)\n",
    "cv2.waitKey()\n",
    "\n",
    "cv2.imshow(\"Crepped IMage\", cropped_image)\n",
    "cv2.waitKey()\n",
    "cv2.destroyAllWindows()"
   ]
  },
  {
   "cell_type": "markdown",
   "metadata": {},
   "source": [
    "Arithmetic operation -->\n",
    "Add and subtract"
   ]
  },
  {
   "cell_type": "code",
   "execution_count": 18,
   "metadata": {},
   "outputs": [],
   "source": [
    "import cv2\n",
    "import numpy as np\n",
    "\n",
    "image = cv2.imread('dog.jpeg')\n",
    "cv2.imshow(\"Original\",image)\n",
    "cv2.waitKey()\n",
    "\n",
    "M = np.ones(image.shape, dtype = 'uint8') *75\n",
    "\n",
    "add = cv2.add(image,M)\n",
    "cv2.imshow(\"Adding\",add)\n",
    "cv2.waitKey()\n",
    "\n",
    "sub = cv2.subtract(image,M)\n",
    "cv2.imshow(\"Subtracting\",sub)\n",
    "cv2.waitKey()\n",
    "cv2.destroyAllWindows()"
   ]
  },
  {
   "cell_type": "markdown",
   "metadata": {},
   "source": [
    "Bitwise Operation and Masking"
   ]
  },
  {
   "cell_type": "code",
   "execution_count": 32,
   "metadata": {},
   "outputs": [],
   "source": [
    "import cv2\n",
    "import numpy as np\n",
    "\n",
    "square = np.zeros((300,300),np.uint8)\n",
    "rectangle = cv2.rectangle(square,(50,50),(250,250),255,-5)\n",
    "cv2.imshow(\"Rectangle\",rectangle)\n",
    "cv2.waitKey()\n",
    "\n",
    "ellipse = np.zeros((300,300),np.uint8)\n",
    "ellipse = cv2.ellipse(ellipse,(150,150),(150,150),30,0,180,255,-1)\n",
    "cv2.imshow(\"Ellipse\",ellipse)\n",
    "cv2.waitKey()\n",
    "\n",
    "cv2.destroyAllWindows()"
   ]
  },
  {
   "cell_type": "code",
   "execution_count": 34,
   "metadata": {},
   "outputs": [],
   "source": [
    "And = cv2.bitwise_and(square,ellipse)\n",
    "cv2.imshow(\"Bitwise And\",And)\n",
    "cv2.waitKey()\n",
    "\n",
    "Or = cv2.bitwise_or(square,ellipse)\n",
    "cv2.imshow(\"Bitwise OR\",Or)\n",
    "cv2.waitKey()\n",
    "\n",
    "Xor = cv2.bitwise_xor(square,ellipse)\n",
    "cv2.imshow(\"Bitwise XOR\",Xor)\n",
    "cv2.waitKey()\n",
    "\n",
    "Nots = cv2.bitwise_not(square)\n",
    "cv2.imshow(\"Bitwise NOT SQUARE\",Nots)\n",
    "cv2.waitKey()\n",
    "\n",
    "Note = cv2.bitwise_not(ellipse)\n",
    "cv2.imshow(\"Bitwise NOT ELLIPSE\",Note)\n",
    "cv2.waitKey()\n",
    "\n",
    "cv2.destroyAllWindows()"
   ]
  },
  {
   "cell_type": "markdown",
   "metadata": {},
   "source": [
    "Blurring the Image"
   ]
  },
  {
   "cell_type": "code",
   "execution_count": 40,
   "metadata": {},
   "outputs": [],
   "source": [
    "import cv2\n",
    "import numpy as np\n",
    "\n",
    "image = cv2.imread('dog.jpeg')\n",
    "cv2.imshow('Original',image)\n",
    "cv2.waitKey()\n",
    "\n",
    "# 3x3 kernel\n",
    "kernel = np.ones((3,3),np.float32) / 9\n",
    "\n",
    "blurres_image = cv2.filter2D(image,-1,kernel)\n",
    "cv2.imshow(\"Blurred 3x3\",blurres_image)\n",
    "cv2.waitKey()\n",
    "\n",
    "# 5x5 kernel\n",
    "kernel = np.ones((5,5),np.float32) / 25\n",
    "\n",
    "blurres_image = cv2.filter2D(image,-1,kernel)\n",
    "cv2.imshow(\"Blurred 5x5\",blurres_image)\n",
    "cv2.waitKey()\n",
    "\n",
    "# 7x7 kernel\n",
    "kernel = np.ones((7,7),np.float32) / 49\n",
    "\n",
    "blurres_image = cv2.filter2D(image,-1,kernel)\n",
    "cv2.imshow(\"Blurred 7x7\",blurres_image)\n",
    "cv2.waitKey()\n",
    "\n",
    "# 9x9 kernel\n",
    "kernel = np.ones((9,9),np.float32) / 81\n",
    "\n",
    "blurres_image = cv2.filter2D(image,-1,kernel)\n",
    "cv2.imshow(\"Blurred 9x9\",blurres_image)\n",
    "cv2.waitKey()\n",
    "\n",
    "# 11x11 kernel\n",
    "kernel = np.ones((11,11),np.float32) / 121\n",
    "\n",
    "blurres_image = cv2.filter2D(image,-1,kernel)\n",
    "cv2.imshow(\"Blurred 11x11\",blurres_image)\n",
    "cv2.waitKey()\n",
    "cv2.destroyAllWindows()\n"
   ]
  },
  {
   "cell_type": "markdown",
   "metadata": {},
   "source": [
    "Other Method for blurring"
   ]
  },
  {
   "cell_type": "code",
   "execution_count": 43,
   "metadata": {},
   "outputs": [],
   "source": [
    "import cv2\n",
    "import numpy as np\n",
    "\n",
    "image = cv2.imread('dog.jpeg')\n",
    "cv2.imshow(\"original\",image)\n",
    "cv2.waitKey()\n",
    "\n",
    "# Averaging blur\n",
    "blur = cv2.blur(image,(3,3))\n",
    "cv2.imshow('Averaging Blur',blur)\n",
    "cv2.waitKey()\n",
    "\n",
    "# Gaussian Blur\n",
    "gaussian = cv2.GaussianBlur(image,(7,7),0)\n",
    "cv2.imshow('Gaussian Blur',gaussian)\n",
    "cv2.waitKey()\n",
    "\n",
    "# Median Blur\n",
    "median_ = cv2.medianBlur(image,5)\n",
    "cv2.imshow('Median Blur',median_)\n",
    "cv2.waitKey()\n",
    "\n",
    "#bilateral blur\n",
    "bilateral = cv2.bilateralFilter(image,9, 75, 75)\n",
    "cv2.imshow('Bilateral Blur',bilateral)\n",
    "cv2.waitKey()\n",
    "\n",
    "cv2.destroyAllWindows()"
   ]
  },
  {
   "cell_type": "markdown",
   "metadata": {},
   "source": [
    "Sharpening the Image"
   ]
  },
  {
   "cell_type": "code",
   "execution_count": 6,
   "metadata": {},
   "outputs": [],
   "source": [
    "import cv2\n",
    "import numpy as np\n",
    "\n",
    "image = cv2.imread('dog.jpeg')\n",
    "cv2.imshow(\"original\",image)\n",
    "cv2.waitKey()\n",
    "\n",
    "# kernel matrix for sharpening \n",
    "kernel = np.array([[-1,-1,-1],\n",
    "                  [-1,9,-1],\n",
    "                  [-1,-1,-1]])\n",
    "# applying kernel to filter2d\n",
    "sharpen = cv2.filter2D(image,-1,kernel)\n",
    "cv2.imshow('Sharpen Image',sharpen)\n",
    "cv2.waitKey()\n",
    "cv2.destroyAllWindows()"
   ]
  },
  {
   "cell_type": "markdown",
   "metadata": {},
   "source": [
    "Thresholding"
   ]
  },
  {
   "cell_type": "code",
   "execution_count": 8,
   "metadata": {},
   "outputs": [],
   "source": [
    "import cv2\n",
    "import numpy as np\n",
    "\n",
    "image = cv2.imread('dog.jpeg')\n",
    "# image = cv2.imread('1.png')\n",
    "cv2.imshow(\"original\",image)\n",
    "gray = cv2.cvtColor(image,cv2.COLOR_BGR2GRAY)\n",
    "cv2.imshow(\"Gray \",gray)\n",
    "cv2.waitKey()\n",
    "\n",
    "ret,thresh1 = cv2.threshold(gray,127,255,cv2.THRESH_BINARY)\n",
    "cv2.imshow(\"Threshold Binary\",thresh1)\n",
    "\n",
    "ret,thresh1 = cv2.threshold(gray,127,255,cv2.THRESH_BINARY_INV)\n",
    "cv2.imshow(\"Threshold Binary Inverse\",thresh1)\n",
    "\n",
    "ret,thresh1 = cv2.threshold(gray,127,255,cv2.THRESH_TRUNC)\n",
    "cv2.imshow(\"Threshold Binary TRUNC\",thresh1)\n",
    "\n",
    "ret,thresh1 = cv2.threshold(gray,127,255,cv2.THRESH_TOZERO)\n",
    "cv2.imshow(\"Threshold TOZERO\",thresh1)\n",
    "\n",
    "ret,thresh1 = cv2.threshold(gray,127,255,cv2.THRESH_TOZERO_INV)\n",
    "cv2.imshow(\"Threshold TOZERO Inverse\",thresh1)\n",
    "\n",
    "cv2.waitKey()\n",
    "cv2.destroyAllWindows()\n"
   ]
  },
  {
   "cell_type": "markdown",
   "metadata": {},
   "source": [
    "Adaptive Thresholding"
   ]
  },
  {
   "cell_type": "code",
   "execution_count": 7,
   "metadata": {},
   "outputs": [],
   "source": [
    "import cv2\n",
    "import numpy as np\n",
    "\n",
    "image = cv2.imread('1.png')\n",
    "image = cv2.cvtColor(image,cv2.COLOR_BGR2GRAY)\n",
    "cv2.imshow('Original gray', image)\n",
    "cv2.waitKey(0) \n",
    "\n",
    "# Values below 127 goes to 0 (black, everything above goes to 255 (white)\n",
    "ret,thresh1 = cv2.threshold(image, 127, 255, cv2.THRESH_BINARY)\n",
    "cv2.imshow('Threshold Binary', thresh1)\n",
    "cv2.waitKey(0) \n",
    "\n",
    "# It's good practice to blur images as it removes noise\n",
    "image = cv2.GaussianBlur(image, (3, 3), 0)\n",
    "\n",
    "# Using adaptiveThreshold\n",
    "thresh = cv2.adaptiveThreshold(image, 255, cv2.ADAPTIVE_THRESH_MEAN_C, \n",
    "                               cv2.THRESH_BINARY, 3, 5) \n",
    "cv2.imshow(\"Adaptive Mean Thresholding\", thresh) \n",
    "cv2.waitKey(0) \n",
    "\n",
    "_, th2 = cv2.threshold(image, 0, 255, cv2.THRESH_BINARY + cv2.THRESH_OTSU)\n",
    "cv2.imshow(\"Otsu's Thresholding\", th2) \n",
    "cv2.waitKey(0) \n",
    "\n",
    "# Otsu's thresholding after Gaussian filtering\n",
    "blur = cv2.GaussianBlur(image, (5,5), 0)\n",
    "_, th3 = cv2.threshold(blur, 0, 255, cv2.THRESH_BINARY + cv2.THRESH_OTSU)\n",
    "cv2.imshow(\"Guassian Otsu's Thresholding\", th3) \n",
    "cv2.waitKey(0) \n",
    "\n",
    "cv2.destroyAllWindows()"
   ]
  },
  {
   "cell_type": "markdown",
   "metadata": {},
   "source": [
    "Dilation and Erosion"
   ]
  },
  {
   "cell_type": "code",
   "execution_count": 1,
   "metadata": {},
   "outputs": [],
   "source": [
    "import cv2\n",
    "import numpy as np\n",
    "\n",
    "image = cv2.imread('bw.png')\n",
    "cv2.imshow('Original gray', image)\n",
    "cv2.waitKey(0)\n",
    "\n",
    "kernel = np.ones((5,5),np.uint8)\n",
    "\n",
    "erosion = cv2.erode(image,kernel,iterations=1)\n",
    "cv2.imshow('Erode', erosion)\n",
    "cv2.waitKey(0)\n",
    "\n",
    "dilate = cv2.dilate(image,kernel,iterations=1)\n",
    "cv2.imshow('Dilate', dilate)\n",
    "cv2.waitKey(0)\n",
    "\n",
    "cv2.destroyAllWindows()"
   ]
  },
  {
   "cell_type": "code",
   "execution_count": null,
   "metadata": {},
   "outputs": [],
   "source": []
  },
  {
   "cell_type": "code",
   "execution_count": null,
   "metadata": {},
   "outputs": [],
   "source": []
  }
 ],
 "metadata": {
  "kernelspec": {
   "display_name": "Python 3",
   "language": "python",
   "name": "python3"
  },
  "language_info": {
   "codemirror_mode": {
    "name": "ipython",
    "version": 3
   },
   "file_extension": ".py",
   "mimetype": "text/x-python",
   "name": "python",
   "nbconvert_exporter": "python",
   "pygments_lexer": "ipython3",
   "version": "3.7.4"
  }
 },
 "nbformat": 4,
 "nbformat_minor": 2
}
